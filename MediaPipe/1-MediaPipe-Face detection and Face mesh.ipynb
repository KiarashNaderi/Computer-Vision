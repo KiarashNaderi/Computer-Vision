{
 "cells": [
  {
   "cell_type": "markdown",
   "id": "01b2ff7c",
   "metadata": {},
   "source": [
    "# Installing libraries"
   ]
  },
  {
   "cell_type": "code",
   "execution_count": null,
   "id": "72a17bbf",
   "metadata": {},
   "outputs": [],
   "source": [
    "#pip install mediapipe"
   ]
  },
  {
   "cell_type": "code",
   "execution_count": null,
   "id": "f0955fbf",
   "metadata": {},
   "outputs": [],
   "source": [
    "#pip install opencv-python"
   ]
  },
  {
   "cell_type": "markdown",
   "id": "14f928a5",
   "metadata": {},
   "source": [
    "# reading camera"
   ]
  },
  {
   "cell_type": "code",
   "execution_count": 4,
   "id": "4d47b08c",
   "metadata": {},
   "outputs": [],
   "source": [
    "import cv2\n",
    "import mediapipe as mp\n",
    "\n",
    "cap=cv2.VideoCapture(0) # address camera ra midahad, sefr yani webcam\n",
    "while(True):\n",
    "    ret,frame=cap.read()\n",
    "    cv2.imshow(\"video\",frame)\n",
    "    if cv2.waitKey(1) & 0XFF==ord(\"q\"):\n",
    "        break\n",
    "        \n",
    "cap.release()\n",
    "cv2.destroyAllWindows()"
   ]
  },
  {
   "cell_type": "code",
   "execution_count": 3,
   "id": "ac1d8f81",
   "metadata": {},
   "outputs": [
    {
     "name": "stdout",
     "output_type": "stream",
     "text": [
      "97\n"
     ]
    }
   ],
   "source": [
    "print(ord(\"a\"))"
   ]
  },
  {
   "cell_type": "markdown",
   "id": "4548da05",
   "metadata": {},
   "source": [
    "# default code"
   ]
  },
  {
   "cell_type": "code",
   "execution_count": 5,
   "id": "7b60135b",
   "metadata": {},
   "outputs": [],
   "source": [
    "import cv2\n",
    "import mediapipe as mp\n",
    "\n",
    "cap=cv2.VideoCapture(0) # address camera ra midahad, sefr yani webcam\n",
    "while(True):\n",
    "    ret,frame=cap.read()\n",
    "    frame=cv2.flip(frame,1) # drost shodane jahate camera\n",
    "    imgrgb=cv2.cvtColor(frame,cv2.COLOR_BGR2RGB) # tabdile bgr be rgb\n",
    "    cv2.imshow(\"video\",frame)\n",
    "    if cv2.waitKey(1) & 0XFF==ord(\"q\"):\n",
    "        break\n",
    "        \n",
    "cap.release()\n",
    "cv2.destroyAllWindows()"
   ]
  },
  {
   "cell_type": "markdown",
   "id": "e4beaa87",
   "metadata": {},
   "source": [
    "# Face detection"
   ]
  },
  {
   "cell_type": "code",
   "execution_count": 6,
   "id": "1a89d03e",
   "metadata": {},
   "outputs": [],
   "source": [
    "import cv2\n",
    "import mediapipe as mp\n",
    "\n",
    "mpface=mp.solutions.face_detection\n",
    "Face=mpface.FaceDetection()\n",
    "\n",
    "mpdraw=mp.solutions.drawing_utils\n",
    "\n",
    "cap=cv2.VideoCapture(0) # address camera ra midahad, sefr yani webcam\n",
    "while(True):\n",
    "    ret,frame=cap.read()\n",
    "    frame=cv2.flip(frame,1) # drost shodane jahate camera\n",
    "    imgrgb=cv2.cvtColor(frame,cv2.COLOR_BGR2RGB) # tabdile bgr be rgb\n",
    "    res=Face.process(imgrgb)\n",
    "    \n",
    "    if res.detections: # agar dakhele tasvir sorat bood\n",
    "        for detections in res.detections:\n",
    "            mpdraw.draw_detection(frame,detections)\n",
    "    \n",
    "    cv2.imshow(\"video\",frame)\n",
    "    if cv2.waitKey(1) & 0XFF==ord(\"q\"):\n",
    "        break\n",
    "        \n",
    "cap.release()\n",
    "cv2.destroyAllWindows()"
   ]
  },
  {
   "cell_type": "markdown",
   "id": "c747dec2",
   "metadata": {},
   "source": [
    "# Face Mesh"
   ]
  },
  {
   "cell_type": "code",
   "execution_count": 7,
   "id": "f688a902",
   "metadata": {},
   "outputs": [],
   "source": [
    "import cv2\n",
    "import mediapipe as mp\n",
    "\n",
    "\n",
    "mpmesh=mp.solutions.face_mesh\n",
    "facemesh=mpmesh.FaceMesh()\n",
    "\n",
    "\n",
    "mpdraw=mp.solutions.drawing_utils\n",
    "\n",
    "cap=cv2.VideoCapture(0) # address camera ra midahad, sefr yani webcam\n",
    "while(True):\n",
    "    ret,frame=cap.read()\n",
    "    frame=cv2.flip(frame,1) # drost shodane jahate camera\n",
    "    imgrgb=cv2.cvtColor(frame,cv2.COLOR_BGR2RGB) # tabdile bgr be rgb\n",
    "    res=facemesh.process(imgrgb)\n",
    "    \n",
    "    if res.multi_face_landmarks: #agar sorati bud\n",
    "        for face_landmarks in res.multi_face_landmarks:\n",
    "            mpdraw.draw_landmarks(frame,face_landmarks)\n",
    "    \n",
    "    cv2.imshow(\"video\",frame)\n",
    "    if cv2.waitKey(1) & 0XFF==ord(\"q\"):\n",
    "        break\n",
    "        \n",
    "cap.release()\n",
    "cv2.destroyAllWindows()"
   ]
  },
  {
   "cell_type": "code",
   "execution_count": null,
   "id": "b867265c",
   "metadata": {},
   "outputs": [],
   "source": []
  }
 ],
 "metadata": {
  "kernelspec": {
   "display_name": "Python 3 (ipykernel)",
   "language": "python",
   "name": "python3"
  },
  "language_info": {
   "codemirror_mode": {
    "name": "ipython",
    "version": 3
   },
   "file_extension": ".py",
   "mimetype": "text/x-python",
   "name": "python",
   "nbconvert_exporter": "python",
   "pygments_lexer": "ipython3",
   "version": "3.11.5"
  }
 },
 "nbformat": 4,
 "nbformat_minor": 5
}
