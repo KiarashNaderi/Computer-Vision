{
 "cells": [
  {
   "cell_type": "code",
   "execution_count": 1,
   "id": "7a3f2cd9",
   "metadata": {},
   "outputs": [
    {
     "name": "stderr",
     "output_type": "stream",
     "text": [
      "2024-05-07 20:26:54.842 \n",
      "  \u001b[33m\u001b[1mWarning:\u001b[0m to view this Streamlit app on a browser, run it with the following\n",
      "  command:\n",
      "\n",
      "    streamlit run C:\\Users\\ASUS\\anaconda3\\Lib\\site-packages\\ipykernel_launcher.py [ARGUMENTS]\n"
     ]
    }
   ],
   "source": [
    "import streamlit as st\n",
    "import cv2\n",
    "\n",
    "st.title(\"webcam\")\n",
    "start=st.button(\"start your camera\")\n",
    "if start:\n",
    "    img=st.image([])\n",
    "    camera=cv2.VideoCapture(0)\n",
    "    \n",
    "    while True:\n",
    "        ret,frame=camera.read()\n",
    "        frame=cv2.cvtColor(frame,cv2.COLOR_BGR2RGB)\n",
    "        cv2.putText(img=frame,text=\"hello\",org=(30,30),fontFace=cv2.FONT_HERSHEY_SIMPLEX,fontScale=2,color=(255,0,0))\n",
    "        img.image(frame)"
   ]
  },
  {
   "cell_type": "code",
   "execution_count": null,
   "id": "72a9e2c8",
   "metadata": {},
   "outputs": [],
   "source": []
  }
 ],
 "metadata": {
  "kernelspec": {
   "display_name": "Python 3 (ipykernel)",
   "language": "python",
   "name": "python3"
  },
  "language_info": {
   "codemirror_mode": {
    "name": "ipython",
    "version": 3
   },
   "file_extension": ".py",
   "mimetype": "text/x-python",
   "name": "python",
   "nbconvert_exporter": "python",
   "pygments_lexer": "ipython3",
   "version": "3.11.5"
  }
 },
 "nbformat": 4,
 "nbformat_minor": 5
}
