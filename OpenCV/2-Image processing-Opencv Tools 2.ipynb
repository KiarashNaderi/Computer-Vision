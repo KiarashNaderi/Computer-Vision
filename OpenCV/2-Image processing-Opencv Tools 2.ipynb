{
 "cells": [
  {
   "cell_type": "markdown",
   "id": "12a2a4f7",
   "metadata": {},
   "source": [
    "# Drawing shapes"
   ]
  },
  {
   "cell_type": "code",
   "execution_count": null,
   "id": "e0e02ce9",
   "metadata": {},
   "outputs": [],
   "source": [
    "#cv2.line()\n",
    "#cv2.rectangle()\n",
    "#cv2.circle()\n",
    "#cv2.ellipse()"
   ]
  },
  {
   "cell_type": "code",
   "execution_count": 3,
   "id": "5e09fcd7",
   "metadata": {},
   "outputs": [],
   "source": [
    "import cv2\n",
    "img=cv2.imread(\"Lionel_messi.jpeg\")\n",
    "img=cv2.line(img,(0,0),(200,200),(255,0,0),5) #(picture,start point,end point,bgr color,thickness ya zekhamat)\n",
    "cv2.imshow(\"Image\",img)\n",
    "cv2.waitKey(0)\n",
    "cv2.destroyAllWindows()"
   ]
  },
  {
   "cell_type": "code",
   "execution_count": 5,
   "id": "fedc28a1",
   "metadata": {},
   "outputs": [],
   "source": [
    "import cv2\n",
    "img=cv2.imread(\"Lionel_messi.jpeg\")\n",
    "img=cv2.rectangle(img,(0,0),(200,250),(255,0,0),5) #(picture,start point,end point,bgr color,thickness ya zekhamat)\n",
    "cv2.imshow(\"Image\",img)\n",
    "cv2.waitKey(0)\n",
    "cv2.destroyAllWindows()"
   ]
  },
  {
   "cell_type": "code",
   "execution_count": 9,
   "id": "59179926",
   "metadata": {},
   "outputs": [],
   "source": [
    "import cv2\n",
    "img=cv2.imread(\"Lionel_messi.jpeg\")\n",
    "img=cv2.circle(img,(200,200),60,(255,0,0),5) #(picture,markaz,shoa,bgr color,thickness ya zekhamat)\n",
    "# nokte==> agar moalefeye akhar ra -1 begozarid dayere topor mishavad\n",
    "cv2.imshow(\"Image\",img)\n",
    "cv2.waitKey(0)\n",
    "cv2.destroyAllWindows()"
   ]
  },
  {
   "cell_type": "code",
   "execution_count": 10,
   "id": "f2abdc46",
   "metadata": {},
   "outputs": [],
   "source": [
    "import cv2\n",
    "img=cv2.imread(\"Lionel_messi.jpeg\")\n",
    "img=cv2.ellipse(img,(100,240),(80,30),0,0,180,255,-1) \n",
    "#img, center, axes, angle, startAngle, endAngle, color[, thickness[, lineType[, shift]]]\n",
    "cv2.imshow(\"Image\",img)\n",
    "cv2.waitKey(0)\n",
    "cv2.destroyAllWindows()"
   ]
  },
  {
   "cell_type": "markdown",
   "id": "60c8cdd2",
   "metadata": {},
   "source": [
    "# information about picture"
   ]
  },
  {
   "cell_type": "code",
   "execution_count": 14,
   "id": "90c988ea",
   "metadata": {},
   "outputs": [],
   "source": [
    "import cv2\n",
    "img=cv2.imread(\"Lionel_messi.jpeg\")\n",
    "cv2.imshow(\"Image\",img)\n",
    "cv2.waitKey(0)\n",
    "cv2.destroyAllWindows()"
   ]
  },
  {
   "cell_type": "code",
   "execution_count": 12,
   "id": "60f088f2",
   "metadata": {},
   "outputs": [
    {
     "data": {
      "text/plain": [
       "(342, 548, 3)"
      ]
     },
     "execution_count": 12,
     "metadata": {},
     "output_type": "execute_result"
    }
   ],
   "source": [
    "img.shape"
   ]
  },
  {
   "cell_type": "code",
   "execution_count": 13,
   "id": "3fb93289",
   "metadata": {},
   "outputs": [
    {
     "name": "stdout",
     "output_type": "stream",
     "text": [
      "[157 166 199]\n"
     ]
    }
   ],
   "source": [
    "px=img[100,100] \n",
    "print(px)\n",
    "# meghdare bgr ra midahad"
   ]
  },
  {
   "cell_type": "markdown",
   "id": "8400a73d",
   "metadata": {},
   "source": [
    "# taghire rang yek nahie az pixel"
   ]
  },
  {
   "cell_type": "code",
   "execution_count": 21,
   "id": "22af15c0",
   "metadata": {},
   "outputs": [],
   "source": [
    "import cv2\n",
    "img=cv2.imread(\"Lionel_messi.jpeg\")\n",
    "for i in range(200):\n",
    "    img[i,i]=[255,255,255] # x,y=[blue,green,red] ta noghteye (200,200 )in kar ra anjam bedam\n",
    "\n",
    "cv2.imshow(\"Image\",img)\n",
    "cv2.waitKey(0)\n",
    "cv2.destroyAllWindows()"
   ]
  },
  {
   "cell_type": "code",
   "execution_count": 26,
   "id": "1133ecb4",
   "metadata": {},
   "outputs": [],
   "source": [
    "import cv2\n",
    "img=cv2.imread(\"Lionel_messi.jpeg\")\n",
    "\n",
    "img[150,180]=[255,255,255] # yek pixel az tasvir rangesh  taghir konad\n",
    "img[150:240,200:280]=[255,120,110] # img[x1:x2,y1:y2]\n",
    "\n",
    "cv2.imshow(\"Image\",img)\n",
    "cv2.waitKey(0)\n",
    "cv2.destroyAllWindows()"
   ]
  },
  {
   "cell_type": "markdown",
   "id": "797e199e",
   "metadata": {},
   "source": [
    "# tafkik va edghame tasvir"
   ]
  },
  {
   "cell_type": "markdown",
   "id": "ad5be679",
   "metadata": {},
   "source": [
    "### cv2.split==> sotohe  abi sabz  va ghermez ra joda mikonad"
   ]
  },
  {
   "cell_type": "code",
   "execution_count": 23,
   "id": "a05e5132",
   "metadata": {},
   "outputs": [],
   "source": [
    "import cv2\n",
    "img=cv2.imread(\"Lionel_messi.jpeg\")\n",
    "b,g,r=cv2.split(img)\n",
    "cv2.imshow(\"Image\",img)\n",
    "cv2.imshow(\"Blue\",b)\n",
    "cv2.imshow(\"Green\",g)\n",
    "cv2.imshow(\"Red\",r)\n",
    "cv2.waitKey(0)\n",
    "cv2.destroyAllWindows()"
   ]
  },
  {
   "cell_type": "markdown",
   "id": "21ee4b19",
   "metadata": {},
   "source": [
    "### cv2.merge==> edghame channel haye tasvir "
   ]
  },
  {
   "cell_type": "code",
   "execution_count": 24,
   "id": "75874d43",
   "metadata": {},
   "outputs": [],
   "source": [
    "import cv2\n",
    "img2=cv2.merge((b,g,r))\n",
    "cv2.imshow(\"merge image\",img2)\n",
    "cv2.waitKey(0)\n",
    "cv2.destroyAllWindows()"
   ]
  },
  {
   "cell_type": "markdown",
   "id": "99447186",
   "metadata": {},
   "source": [
    "### joda sazi channel ha bedone method split"
   ]
  },
  {
   "cell_type": "code",
   "execution_count": 27,
   "id": "6a0f5d6b",
   "metadata": {},
   "outputs": [],
   "source": [
    "import cv2\n",
    "img=cv2.imread(\"Lionel_messi.jpeg\")\n",
    "b=img[:,:,0] # x va y kole ax ro bede va channele blue ro bede (x,y,blue=0) bgr\n",
    "#vaghti 2tarafe noghte chizi nanevism yani kole x vay\n",
    "g=img[:,:,1]\n",
    "r=img[:,:,2]\n",
    "cv2.imshow(\"Image\",img)\n",
    "cv2.imshow(\"Blue\",b)\n",
    "cv2.imshow(\"Green\",g)\n",
    "cv2.imshow(\"Red\",r)\n",
    "cv2.waitKey(0)\n",
    "cv2.destroyAllWindows()"
   ]
  },
  {
   "cell_type": "markdown",
   "id": "bef68b03",
   "metadata": {},
   "source": [
    "# delete kardane channel morede nazar"
   ]
  },
  {
   "cell_type": "code",
   "execution_count": 34,
   "id": "444528f9",
   "metadata": {},
   "outputs": [],
   "source": [
    "import cv2\n",
    "img=cv2.imread(\"Lionel_messi.jpeg\")\n",
    "\n",
    "#img[:,:,0]=120 # channel blue ro pak kon\n",
    "#img[:,:,1]=100 # channel green ro pak kon \n",
    "img[:,:,2]=0 # channel red ro pak kon\n",
    "cv2.imshow(\"image\",img)\n",
    "cv2.waitKey(0)\n",
    "cv2.destroyAllWindows()"
   ]
  },
  {
   "cell_type": "markdown",
   "id": "382f852d",
   "metadata": {},
   "source": [
    "# rasme hashie"
   ]
  },
  {
   "cell_type": "code",
   "execution_count": null,
   "id": "3b2f9d89",
   "metadata": {},
   "outputs": [],
   "source": [
    "# cv2.copyMakeBorder"
   ]
  },
  {
   "cell_type": "code",
   "execution_count": null,
   "id": "3e6a803b",
   "metadata": {},
   "outputs": [],
   "source": [
    "import cv2\n",
    "img=cv2.imread(\"Lionel_messi.jpeg\")\n",
    "constant=cv2.copyMakeBorder(img,20,20,20,20,cv2.BORDER_CONSTANT,value=(200,100,100))\n",
    "reflect=cv2.copyMakeBorder(img,20,20,20,20,cv2.BORDER_REFLECT,value=(200,100,100))\n",
    "Wrap=cv2.copyMakeBorder(img,20,20,20,20,cv2.BORDER_WRAP,value=(200,100,100))\n",
    "replicate=cv2.copyMakeBorder(img,20,20,20,20,cv2.BORDER_REPLICATE,value=(200,100,100))\n",
    "\n",
    "cv2.imshow(\"constant\",constant)\n",
    "cv2.imshow(\"reflect\",reflect)\n",
    "cv2.imshow(\"wrap\",Wrap)\n",
    "cv2.imshow(\"replicate\",replicate)\n",
    "cv2.waitKey(0)\n",
    "cv2.destroyAllWindows()"
   ]
  },
  {
   "cell_type": "markdown",
   "id": "86bf5b6d",
   "metadata": {},
   "source": [
    "# tarkibe 2ta tasvir"
   ]
  },
  {
   "cell_type": "code",
   "execution_count": null,
   "id": "b449b6a2",
   "metadata": {},
   "outputs": [],
   "source": [
    "# ham shape bashand \n",
    "# formate yeksan dashte bashand"
   ]
  },
  {
   "cell_type": "code",
   "execution_count": null,
   "id": "8430673d",
   "metadata": {},
   "outputs": [],
   "source": [
    "import cv2\n",
    "img1=cv2.imread(r\"E:\\my courses\\courses\\mine\\ai\\computer vision\\Image processing-opencv\\data\\reading files\\pic1.png\")\n",
    "img2=cv2.imread(r\"E:\\my courses\\courses\\mine\\ai\\computer vision\\Image processing-opencv\\data\\reading files\\pic2.png\")\n",
    "\n",
    "result=img1+img2\n",
    "\n",
    "cv2.imshow(\"pic1\",img1)\n",
    "cv2.imshow(\"pic2\",img2)\n",
    "cv2.imshow(\"result\",result)\n",
    "cv2.waitKey(0)\n",
    "cv2.destroyAllWindows()"
   ]
  },
  {
   "cell_type": "code",
   "execution_count": 1,
   "id": "34f085b0",
   "metadata": {},
   "outputs": [],
   "source": [
    "#cv2.add\n",
    "import cv2\n",
    "img1=cv2.imread(r\"E:\\my courses\\courses\\mine\\ai\\computer vision\\Image processing-opencv\\data\\reading files\\pic1.png\")\n",
    "img2=cv2.imread(r\"E:\\my courses\\courses\\mine\\ai\\computer vision\\Image processing-opencv\\data\\reading files\\pic2.png\")\n",
    "\n",
    "result=cv2.add(img1,img2)\n",
    "\n",
    "cv2.imshow(\"pic1\",img1)\n",
    "cv2.imshow(\"pic2\",img2)\n",
    "cv2.imshow(\"result\",result)\n",
    "cv2.waitKey(0)\n",
    "cv2.destroyAllWindows()"
   ]
  },
  {
   "cell_type": "code",
   "execution_count": 5,
   "id": "b1ba3053",
   "metadata": {},
   "outputs": [],
   "source": [
    "#cv2.addweighted\n",
    "import cv2\n",
    "img1=cv2.imread(r\"E:\\my courses\\courses\\mine\\ai\\computer vision\\Image processing-opencv\\data\\reading files\\pic1.png\")\n",
    "img2=cv2.imread(r\"E:\\my courses\\courses\\mine\\ai\\computer vision\\Image processing-opencv\\data\\reading files\\pic2.png\")\n",
    "\n",
    "result=cv2.addWeighted(img1,0.1,img2,0.9,0)\n",
    "# bayad sahm vazn ha jameshon yek shavad\n",
    "\n",
    "cv2.imshow(\"pic1\",img1)\n",
    "cv2.imshow(\"pic2\",img2)\n",
    "cv2.imshow(\"result\",result)\n",
    "cv2.waitKey(0)\n",
    "cv2.destroyAllWindows()"
   ]
  },
  {
   "cell_type": "code",
   "execution_count": null,
   "id": "4dbd11d9",
   "metadata": {},
   "outputs": [],
   "source": []
  }
 ],
 "metadata": {
  "kernelspec": {
   "display_name": "Python 3 (ipykernel)",
   "language": "python",
   "name": "python3"
  },
  "language_info": {
   "codemirror_mode": {
    "name": "ipython",
    "version": 3
   },
   "file_extension": ".py",
   "mimetype": "text/x-python",
   "name": "python",
   "nbconvert_exporter": "python",
   "pygments_lexer": "ipython3",
   "version": "3.11.5"
  }
 },
 "nbformat": 4,
 "nbformat_minor": 5
}
