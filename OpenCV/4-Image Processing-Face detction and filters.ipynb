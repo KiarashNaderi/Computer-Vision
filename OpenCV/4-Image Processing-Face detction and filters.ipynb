{
 "cells": [
  {
   "cell_type": "markdown",
   "id": "6f8e5e10",
   "metadata": {},
   "source": [
    "# Face detection(tashkhise chehre)"
   ]
  },
  {
   "cell_type": "markdown",
   "id": "557f75ea",
   "metadata": {},
   "source": [
    "haar cascade\n",
    "\n",
    "https://github.com/opencv/opencv/tree/master/data/haarcascades"
   ]
  },
  {
   "cell_type": "code",
   "execution_count": 2,
   "id": "ce7351a6",
   "metadata": {},
   "outputs": [],
   "source": [
    "import cv2\n",
    "import numpy as np\n",
    "\n",
    "face_detect=cv2.CascadeClassifier(r\"E:\\my courses\\courses\\mine\\ai\\computer vision\\Image processing-opencv\\data\\face detection\\haarcascade_frontalface_default.xml\")\n",
    "eye_detect=cv2.CascadeClassifier(r\"E:\\my courses\\courses\\mine\\ai\\computer vision\\Image processing-opencv\\data\\face detection\\haarcascade_eye.xml\")\n",
    "smile_detect=cv2.CascadeClassifier(r\"E:\\my courses\\courses\\mine\\ai\\computer vision\\Image processing-opencv\\data\\face detection\\haarcascade_smile.xml\")                                \n",
    "\n",
    "cap=cv2.VideoCapture(0)\n",
    "\n",
    "while(True):\n",
    "    ret,frame=cap.read()\n",
    "    frame_gray=cv2.cvtColor(frame,cv2.COLOR_BGR2GRAY) # tabdil be tasvire siah sefid\n",
    "    faces=face_detect.detectMultiScale(frame_gray,1.3,5) # abaade axe\n",
    "    for (x,y,w,h) in faces:\n",
    "        cv2.rectangle(frame,(x,y),(x+w,y+h),(255,125,255),2)\n",
    "        \n",
    "        \n",
    "        frame_gray_roi=frame_gray[y:y+h, x:x+w]\n",
    "        frame_roi=frame[y:y+h,x:x+w]\n",
    "        \n",
    "        eyes=eye_detect.detectMultiScale(frame_gray_roi) # abaade axe\n",
    "        for(ex,ey,ew,eh) in eyes:\n",
    "            cv2.rectangle(frame_roi,(ex,ey),(ex+ew,ey+eh),(0,255,255),2)\n",
    "            \n",
    "        smiles=smile_detect.detectMultiScale(frame_gray_roi,1.8,20)\n",
    "        for (sx,sy,sw,sh) in smiles:\n",
    "            cv2.rectangle(frame_roi,(sx,sy),(sx+sw,sy+sh),(255,0,255),2)\n",
    "            \n",
    "    cv2.imshow(\"frame\",frame)\n",
    "    if cv2.waitKey(1) & 0xFF==ord(\"q\"): #yani karbar q zad filmo beband\n",
    "        break\n",
    "        \n",
    "        \n",
    "cap.release()\n",
    "cv2.destroyAllWindows()                                 \n",
    "                                                                                                "
   ]
  },
  {
   "cell_type": "markdown",
   "id": "d5a7348d",
   "metadata": {},
   "source": [
    "# filters"
   ]
  },
  {
   "cell_type": "markdown",
   "id": "321dbc69",
   "metadata": {},
   "source": [
    "1)matris filter tasvir\n",
    "2)filter miangin\n",
    "3)filter gaussian\n",
    "4)filter miane\n",
    "5)fikter 2tarafe"
   ]
  },
  {
   "cell_type": "markdown",
   "id": "e4152a4c",
   "metadata": {},
   "source": [
    "# Matris filter tasvir"
   ]
  },
  {
   "cell_type": "code",
   "execution_count": 9,
   "id": "cd1556e5",
   "metadata": {},
   "outputs": [],
   "source": [
    "import numpy as np\n",
    "import cv2\n",
    "\n",
    "img=cv2.imread(\"Lionel_messi.jpeg\")\n",
    "kernel=np.ones((5,5),np.float32)/25\n",
    "res=cv2.filter2D(img,-1,kernel)\n",
    "\n",
    "cv2.imshow(\"Lionel_orginal\",img)\n",
    "cv2.imshow(\"Lionel_filter\",res)\n",
    "cv2.waitKey(0)\n",
    "cv2.destroyAllWindows()"
   ]
  },
  {
   "cell_type": "markdown",
   "id": "637c6553",
   "metadata": {},
   "source": [
    "# filter miangin"
   ]
  },
  {
   "cell_type": "code",
   "execution_count": null,
   "id": "76254583",
   "metadata": {},
   "outputs": [],
   "source": [
    "#cv2.bluer\n",
    "#cv2.boxFilter()"
   ]
  },
  {
   "cell_type": "code",
   "execution_count": 11,
   "id": "0b43b981",
   "metadata": {},
   "outputs": [],
   "source": [
    "import numpy as np\n",
    "import cv2\n",
    "\n",
    "img=cv2.imread(\"Lionel_messi.jpeg\")\n",
    "bluer_image=cv2.blur(img,(9,9))\n",
    "\n",
    "cv2.imshow(\"Lionel_orginal\",img)\n",
    "cv2.imshow(\"Lionel_filter\",bluer_image)\n",
    "cv2.waitKey(0)\n",
    "cv2.destroyAllWindows()"
   ]
  },
  {
   "cell_type": "markdown",
   "id": "863ef313",
   "metadata": {},
   "source": [
    "# filter guassian"
   ]
  },
  {
   "cell_type": "code",
   "execution_count": null,
   "id": "ce665388",
   "metadata": {},
   "outputs": [],
   "source": [
    "#cv2.GaussianBlur"
   ]
  },
  {
   "cell_type": "code",
   "execution_count": 17,
   "id": "36b01181",
   "metadata": {},
   "outputs": [],
   "source": [
    "import numpy as np\n",
    "import cv2\n",
    "\n",
    "img=cv2.imread(\"Lionel_messi.jpeg\")\n",
    "gaussi_image=cv2.GaussianBlur(img,(5,5),0)\n",
    "\n",
    "cv2.imshow(\"Lionel_orginal\",img)\n",
    "cv2.imshow(\"Lionel_filter\",gaussi_image)\n",
    "cv2.waitKey(0)\n",
    "cv2.destroyAllWindows()"
   ]
  },
  {
   "cell_type": "markdown",
   "id": "9027d534",
   "metadata": {},
   "source": [
    "# filter miane(median)"
   ]
  },
  {
   "cell_type": "code",
   "execution_count": null,
   "id": "40be5aeb",
   "metadata": {},
   "outputs": [],
   "source": [
    "#cv2.medianBluer()"
   ]
  },
  {
   "cell_type": "code",
   "execution_count": 19,
   "id": "95502dcd",
   "metadata": {},
   "outputs": [],
   "source": [
    "import numpy as np\n",
    "import cv2\n",
    "\n",
    "img=cv2.imread(\"Lionel_messi.jpeg\")\n",
    "median_image=cv2.medianBlur(img,(5))\n",
    "\n",
    "cv2.imshow(\"Lionel_orginal\",img)\n",
    "cv2.imshow(\"Lionel_filter\",median_image)\n",
    "cv2.waitKey(0)\n",
    "cv2.destroyAllWindows()"
   ]
  },
  {
   "cell_type": "markdown",
   "id": "e6f28b55",
   "metadata": {},
   "source": [
    "# filter 2tarafe"
   ]
  },
  {
   "cell_type": "code",
   "execution_count": null,
   "id": "57e7808e",
   "metadata": {},
   "outputs": [],
   "source": [
    "#cv2.bilateralFilter()"
   ]
  },
  {
   "cell_type": "code",
   "execution_count": 1,
   "id": "f499ba6d",
   "metadata": {},
   "outputs": [],
   "source": [
    "import numpy as np\n",
    "import cv2\n",
    "\n",
    "img=cv2.imread(\"Lionel_messi.jpeg\")\n",
    "bi_image=cv2.bilateralFilter(img,10,50,50)\n",
    "\n",
    "cv2.imshow(\"Lionel_orginal\",img)\n",
    "cv2.imshow(\"Lionel_filter\",bi_image)\n",
    "cv2.waitKey(0)\n",
    "cv2.destroyAllWindows()"
   ]
  },
  {
   "cell_type": "code",
   "execution_count": null,
   "id": "611cfdbf",
   "metadata": {},
   "outputs": [],
   "source": []
  }
 ],
 "metadata": {
  "kernelspec": {
   "display_name": "Python 3 (ipykernel)",
   "language": "python",
   "name": "python3"
  },
  "language_info": {
   "codemirror_mode": {
    "name": "ipython",
    "version": 3
   },
   "file_extension": ".py",
   "mimetype": "text/x-python",
   "name": "python",
   "nbconvert_exporter": "python",
   "pygments_lexer": "ipython3",
   "version": "3.11.5"
  }
 },
 "nbformat": 4,
 "nbformat_minor": 5
}
