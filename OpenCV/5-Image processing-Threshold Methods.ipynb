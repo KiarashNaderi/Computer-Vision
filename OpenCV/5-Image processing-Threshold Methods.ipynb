{
 "cells": [
  {
   "cell_type": "markdown",
   "id": "03bf6277",
   "metadata": {},
   "source": [
    "# Threshold ya astane gozari"
   ]
  },
  {
   "cell_type": "markdown",
   "id": "b4e6f1a4",
   "metadata": {},
   "source": [
    "# threshold kamelane kamelan ba tajrobe bedast miaid va ba tavajoh be task"
   ]
  },
  {
   "cell_type": "markdown",
   "id": "820015d8",
   "metadata": {},
   "source": [
    "# 1.Threshold binary==> yani az yek had kamtar 0 va bishtr 1"
   ]
  },
  {
   "cell_type": "code",
   "execution_count": 1,
   "id": "1fa1779a",
   "metadata": {},
   "outputs": [],
   "source": [
    "import cv2\n",
    "import numpy as np\n",
    "\n",
    "img=cv2.imread(r\"E:\\my courses\\courses\\mine\\ai\\computer vision\\Image processing-opencv\\data\\threshold\\bookpage.jpg\")\n",
    "ret,threshold=cv2.threshold(img,8,255,cv2.THRESH_BINARY)\n",
    "# ret dar threshold binary bedard nemikhorad\n",
    "# threshold==> axi ke astane gozari mishe rosh\n",
    "\n",
    "\n",
    "cv2.imshow(\"image\",img)\n",
    "cv2.imshow(\"threshold1\",threshold)\n",
    "cv2.waitKey(0)\n",
    "cv2.destroyAllWindows()"
   ]
  },
  {
   "cell_type": "code",
   "execution_count": null,
   "id": "4108ed9f",
   "metadata": {},
   "outputs": [],
   "source": [
    "# aval siah sefid baad threshold binary"
   ]
  },
  {
   "cell_type": "code",
   "execution_count": 7,
   "id": "544d1bfa",
   "metadata": {},
   "outputs": [],
   "source": [
    "import cv2\n",
    "import numpy as np\n",
    "\n",
    "img=cv2.imread(r\"E:\\my courses\\courses\\mine\\ai\\computer vision\\Image processing-opencv\\data\\threshold\\bookpage.jpg\")\n",
    "imggray=cv2.cvtColor(img,cv2.COLOR_BGR2GRAY)\n",
    "ret,threshold=cv2.threshold(imggray,8,255,cv2.THRESH_BINARY)\n",
    "# ret dar threshold binary bedard nemikhorad\n",
    "# threshold==> axi ke astane gozari mishe rosh\n",
    "\n",
    "\n",
    "cv2.imshow(\"image\",img)\n",
    "cv2.imshow(\"threshold1\",threshold)\n",
    "cv2.waitKey(0)\n",
    "cv2.destroyAllWindows()"
   ]
  },
  {
   "cell_type": "markdown",
   "id": "668f1b6e",
   "metadata": {},
   "source": [
    "# adaptive thresholding==> threshold tatbighi==> baresi navahi"
   ]
  },
  {
   "cell_type": "code",
   "execution_count": 1,
   "id": "a48a7bab",
   "metadata": {},
   "outputs": [],
   "source": [
    "import cv2 \n",
    "import numpy as np\n",
    "\n",
    "img=cv2.imread(r\"E:\\my courses\\courses\\mine\\ai\\computer vision\\Image processing-opencv\\data\\threshold\\bookpage.jpg\")\n",
    "imggray=cv2.cvtColor(img,cv2.COLOR_BGR2GRAY)\n",
    "ret,threshold=cv2.threshold(imggray,6,180,cv2.ADAPTIVE_THRESH_GAUSSIAN_C)\n",
    "\n",
    "cv2.imshow(\"image\",img)\n",
    "cv2.imshow(\"threshold1\",threshold)\n",
    "cv2.waitKey(0)\n",
    "cv2.destroyAllWindows()"
   ]
  },
  {
   "cell_type": "code",
   "execution_count": 8,
   "id": "162744ee",
   "metadata": {},
   "outputs": [],
   "source": [
    "import cv2 \n",
    "import numpy as np\n",
    "\n",
    "img=cv2.imread(r\"E:\\my courses\\courses\\mine\\ai\\computer vision\\Image processing-opencv\\data\\threshold\\bookpage.jpg\")\n",
    "imggray=cv2.cvtColor(img,cv2.COLOR_BGR2GRAY)\n",
    "threshold1=cv2.adaptiveThreshold(imggray,200,cv2.ADAPTIVE_THRESH_GAUSSIAN_C,cv2.THRESH_BINARY,15,1)\n",
    "#adad 1 sabete\n",
    "\n",
    "cv2.imshow(\"image\",img)\n",
    "cv2.imshow(\"threshold1\",threshold1)\n",
    "cv2.waitKey(0)\n",
    "cv2.destroyAllWindows()"
   ]
  },
  {
   "cell_type": "markdown",
   "id": "8b268c45",
   "metadata": {},
   "source": [
    "# Threshold otsu==> khodesh adade threshold ra dar miavarad"
   ]
  },
  {
   "cell_type": "code",
   "execution_count": 9,
   "id": "c6ac172d",
   "metadata": {},
   "outputs": [],
   "source": [
    "import cv2 \n",
    "import numpy as np\n",
    "\n",
    "img=cv2.imread(r\"E:\\my courses\\courses\\mine\\ai\\computer vision\\Image processing-opencv\\data\\threshold\\bookpage.jpg\")\n",
    "imggray=cv2.cvtColor(img,cv2.COLOR_BGR2GRAY)\n",
    "ret,threshold=cv2.threshold(imggray,0,255,cv2.THRESH_OTSU)\n",
    "cv2.imshow(\"image\",img)\n",
    "cv2.imshow(\"threshold1\",threshold)\n",
    "cv2.waitKey(0)\n",
    "cv2.destroyAllWindows()"
   ]
  },
  {
   "cell_type": "code",
   "execution_count": 10,
   "id": "2dcf4890",
   "metadata": {},
   "outputs": [],
   "source": [
    "import cv2 \n",
    "import numpy as np\n",
    "\n",
    "img=cv2.imread(r\"E:\\my courses\\courses\\mine\\ai\\computer vision\\Image processing-opencv\\data\\threshold\\bookpage.jpg\")\n",
    "imggray=cv2.cvtColor(img,cv2.COLOR_BGR2GRAY)\n",
    "ret,threshold=cv2.threshold(imggray,0,255,cv2.THRESH_OTSU+cv2.THRESH_BINARY)\n",
    "cv2.imshow(\"image\",img)\n",
    "cv2.imshow(\"threshold1\",threshold)\n",
    "cv2.waitKey(0)\n",
    "cv2.destroyAllWindows()"
   ]
  },
  {
   "cell_type": "code",
   "execution_count": 1,
   "id": "db6e5969",
   "metadata": {},
   "outputs": [
    {
     "name": "stdout",
     "output_type": "stream",
     "text": [
      "20.0\n"
     ]
    }
   ],
   "source": [
    "import cv2 \n",
    "import numpy as np\n",
    "\n",
    "img=cv2.imread(r\"E:\\my courses\\courses\\mine\\ai\\computer vision\\Image processing-opencv\\data\\threshold\\otsu.jpg\")\n",
    "imggray=cv2.cvtColor(img,cv2.COLOR_BGR2GRAY)\n",
    "ret,threshold=cv2.threshold(imggray,20,255,cv2.THRESH_BINARY)\n",
    "ret2,threshold2=cv2.threshold(imggray,0,255,cv2.THRESH_OTSU+cv2.THRESH_BINARY)\n",
    "cv2.imshow(\"image\",img)\n",
    "cv2.imshow(\"threshold_BINARY\",threshold)\n",
    "cv2.imshow(\"threshold_Otsu\",threshold2)\n",
    "cv2.waitKey(0)\n",
    "cv2.destroyAllWindows()\n",
    "print(ret)"
   ]
  },
  {
   "cell_type": "markdown",
   "id": "e0abefae",
   "metadata": {},
   "source": [
    "# mri maghz"
   ]
  },
  {
   "cell_type": "code",
   "execution_count": null,
   "id": "cf715eb4",
   "metadata": {},
   "outputs": [],
   "source": [
    "import cv2 \n",
    "import numpy as np\n",
    "\n",
    "img=cv2.imread(r\"E:\\my courses\\courses\\mine\\ai\\computer vision\\Image processing-opencv\\data\\threshold\\3-Figure2-1.png\")\n",
    "imggray=cv2.cvtColor(img,cv2.COLOR_BGR2GRAY)\n",
    "\n",
    "ret,threshold=cv2.threshold(imggray,12,255,cv2.THRESH_BINARY)\n",
    "\n",
    "ret2,threshold2=cv2.threshold(imggray,0,255,cv2.THRESH_BINARY+cv2.THRESH_OTSU)\n",
    "\n",
    "threshold3=cv2.adaptiveThreshold(imggray,255,cv2.ADAPTIVE_THRESH_GAUSSIAN_C,cv2.THRESH_BINARY,15,1)\n",
    "\n",
    "\n",
    "cv2.imshow(\"Orginal\",img)\n",
    "cv2.imshow(\"Grayscale\",imggray)\n",
    "cv2.imshow(\"threshold_binary\",threshold)\n",
    "cv2.imshow(\"threshold otsu\",threshold2)\n",
    "cv2.imshow(\"threshold_adaptive\",threshold3)\n",
    "\n",
    "cv2.waitKey(0)\n",
    "cv2.destroyAllWindows()"
   ]
  },
  {
   "cell_type": "markdown",
   "id": "0460e37a",
   "metadata": {},
   "source": [
    "# page"
   ]
  },
  {
   "cell_type": "code",
   "execution_count": 2,
   "id": "06af368d",
   "metadata": {},
   "outputs": [],
   "source": [
    "import cv2 \n",
    "import numpy as np\n",
    "\n",
    "img=cv2.imread(r\"E:\\my courses\\courses\\mine\\ai\\computer vision\\Image processing-opencv\\data\\threshold\\bradley_method_01.png\")\n",
    "imggray=cv2.cvtColor(img,cv2.COLOR_BGR2GRAY)\n",
    "\n",
    "ret,threshold=cv2.threshold(imggray,12,255,cv2.THRESH_BINARY)\n",
    "\n",
    "ret2,threshold2=cv2.threshold(imggray,0,255,cv2.THRESH_BINARY+cv2.THRESH_OTSU)\n",
    "\n",
    "threshold3=cv2.adaptiveThreshold(imggray,255,cv2.ADAPTIVE_THRESH_GAUSSIAN_C,cv2.THRESH_BINARY,13,1)\n",
    "\n",
    "\n",
    "cv2.imshow(\"Orginal\",img)\n",
    "cv2.imshow(\"Grayscale\",imggray)\n",
    "cv2.imshow(\"threshold_binary\",threshold)\n",
    "cv2.imshow(\"threshold otsu\",threshold2)\n",
    "cv2.imshow(\"threshold_adaptive\",threshold3)\n",
    "\n",
    "cv2.waitKey(0)\n",
    "cv2.destroyAllWindows()"
   ]
  },
  {
   "cell_type": "code",
   "execution_count": 3,
   "id": "923c1a81",
   "metadata": {},
   "outputs": [],
   "source": [
    "import cv2 \n",
    "import numpy as np\n",
    "\n",
    "img=cv2.imread(r\"E:\\my courses\\courses\\mine\\ai\\computer vision\\Image processing-opencv\\data\\threshold\\images (1).jpeg\")\n",
    "imggray=cv2.cvtColor(img,cv2.COLOR_BGR2GRAY)\n",
    "\n",
    "ret,threshold=cv2.threshold(imggray,12,255,cv2.THRESH_BINARY)\n",
    "\n",
    "ret2,threshold2=cv2.threshold(imggray,0,255,cv2.THRESH_BINARY+cv2.THRESH_OTSU)\n",
    "\n",
    "threshold3=cv2.adaptiveThreshold(imggray,255,cv2.ADAPTIVE_THRESH_GAUSSIAN_C,cv2.THRESH_BINARY,13,1)\n",
    "\n",
    "\n",
    "cv2.imshow(\"Orginal\",img)\n",
    "cv2.imshow(\"Grayscale\",imggray)\n",
    "cv2.imshow(\"threshold_binary\",threshold)\n",
    "cv2.imshow(\"threshold otsu\",threshold2)\n",
    "cv2.imshow(\"threshold_adaptive\",threshold3)\n",
    "\n",
    "cv2.waitKey(0)\n",
    "cv2.destroyAllWindows()"
   ]
  },
  {
   "cell_type": "code",
   "execution_count": null,
   "id": "2fd118fe",
   "metadata": {},
   "outputs": [],
   "source": []
  }
 ],
 "metadata": {
  "kernelspec": {
   "display_name": "Python 3 (ipykernel)",
   "language": "python",
   "name": "python3"
  },
  "language_info": {
   "codemirror_mode": {
    "name": "ipython",
    "version": 3
   },
   "file_extension": ".py",
   "mimetype": "text/x-python",
   "name": "python",
   "nbconvert_exporter": "python",
   "pygments_lexer": "ipython3",
   "version": "3.11.5"
  }
 },
 "nbformat": 4,
 "nbformat_minor": 5
}
