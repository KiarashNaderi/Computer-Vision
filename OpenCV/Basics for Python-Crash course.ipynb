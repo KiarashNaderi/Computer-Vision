{
 "cells": [
  {
   "cell_type": "markdown",
   "id": "652a7539",
   "metadata": {},
   "source": [
    "# Basic syntax"
   ]
  },
  {
   "cell_type": "code",
   "execution_count": null,
   "id": "e98ee3bd",
   "metadata": {},
   "outputs": [],
   "source": [
    "#int===> +2 ,+3,-10\n",
    "#float==> 12.23,-101.5\n",
    "#string==> \"ali\",\"a\",\"k\",\"python\""
   ]
  },
  {
   "cell_type": "code",
   "execution_count": 3,
   "id": "6b0a1cb7",
   "metadata": {},
   "outputs": [],
   "source": [
    "#12a=12==> na dorost ==> nabyad avalesh adad bashad\n",
    "#ali amir=24===> fasele nabayad beine esme moteghair ha bashad\n",
    "#amir_rezaiy=28==> dorost ==> underline moshkeli nadard\n",
    "#str==>> esm haye az ghabl tarif shode ra dar python gharar nadahid"
   ]
  },
  {
   "cell_type": "code",
   "execution_count": 4,
   "id": "617cf885",
   "metadata": {},
   "outputs": [
    {
     "name": "stdout",
     "output_type": "stream",
     "text": [
      "30\n",
      "10\n",
      "2.0\n",
      "0\n",
      "200\n",
      "10240000000000\n"
     ]
    }
   ],
   "source": [
    "a=10\n",
    "b=20\n",
    "print(a+b)\n",
    "print(b-a)\n",
    "print(b/a)\n",
    "print(b%a)\n",
    "print(b*a)\n",
    "print(b**a)"
   ]
  },
  {
   "cell_type": "code",
   "execution_count": 8,
   "id": "64610aa5",
   "metadata": {},
   "outputs": [
    {
     "name": "stdout",
     "output_type": "stream",
     "text": [
      "ali amir\n",
      "ali\n",
      "amir\n"
     ]
    }
   ],
   "source": [
    "name1=\"ali\"\n",
    "name2=\"amir\"\n",
    "print(name1,name2)\n",
    "print(name1)\n",
    "print(name2)"
   ]
  },
  {
   "cell_type": "code",
   "execution_count": 9,
   "id": "28714105",
   "metadata": {},
   "outputs": [
    {
     "name": "stdout",
     "output_type": "stream",
     "text": [
      "<class 'str'>\n",
      "<class 'int'>\n",
      "<class 'float'>\n"
     ]
    }
   ],
   "source": [
    "#type ==> neshan dadane noe moteghair\n",
    "name1=\"alireza\"\n",
    "number1=20\n",
    "number2=20.5\n",
    "print(type(name1))\n",
    "print(type(number1))\n",
    "print(type(number2))"
   ]
  },
  {
   "cell_type": "markdown",
   "id": "7360d711",
   "metadata": {},
   "source": [
    "# moghayese"
   ]
  },
  {
   "cell_type": "code",
   "execution_count": 11,
   "id": "615f49ca",
   "metadata": {},
   "outputs": [
    {
     "name": "stdout",
     "output_type": "stream",
     "text": [
      "8\n"
     ]
    }
   ],
   "source": [
    "a=8\n",
    "b=10\n",
    "print(a)"
   ]
  },
  {
   "cell_type": "code",
   "execution_count": 12,
   "id": "b5519732",
   "metadata": {},
   "outputs": [
    {
     "data": {
      "text/plain": [
       "False"
      ]
     },
     "execution_count": 12,
     "metadata": {},
     "output_type": "execute_result"
    }
   ],
   "source": [
    "a>b"
   ]
  },
  {
   "cell_type": "code",
   "execution_count": 13,
   "id": "0bc04640",
   "metadata": {},
   "outputs": [
    {
     "data": {
      "text/plain": [
       "True"
      ]
     },
     "execution_count": 13,
     "metadata": {},
     "output_type": "execute_result"
    }
   ],
   "source": [
    "a<b"
   ]
  },
  {
   "cell_type": "code",
   "execution_count": 14,
   "id": "9acf87ae",
   "metadata": {},
   "outputs": [
    {
     "data": {
      "text/plain": [
       "False"
      ]
     },
     "execution_count": 14,
     "metadata": {},
     "output_type": "execute_result"
    }
   ],
   "source": [
    "num1=12\n",
    "num2=12\n",
    "num1>num2"
   ]
  },
  {
   "cell_type": "code",
   "execution_count": 15,
   "id": "ab4a1da4",
   "metadata": {},
   "outputs": [
    {
     "data": {
      "text/plain": [
       "False"
      ]
     },
     "execution_count": 15,
     "metadata": {},
     "output_type": "execute_result"
    }
   ],
   "source": [
    "num1<num2"
   ]
  },
  {
   "cell_type": "code",
   "execution_count": 16,
   "id": "b2178ddc",
   "metadata": {},
   "outputs": [
    {
     "data": {
      "text/plain": [
       "True"
      ]
     },
     "execution_count": 16,
     "metadata": {},
     "output_type": "execute_result"
    }
   ],
   "source": [
    "num1==num2"
   ]
  },
  {
   "cell_type": "code",
   "execution_count": 17,
   "id": "a35c0244",
   "metadata": {},
   "outputs": [
    {
     "data": {
      "text/plain": [
       "True"
      ]
     },
     "execution_count": 17,
     "metadata": {},
     "output_type": "execute_result"
    }
   ],
   "source": [
    "num1>=num2"
   ]
  },
  {
   "cell_type": "code",
   "execution_count": 18,
   "id": "9bc87cb8",
   "metadata": {},
   "outputs": [
    {
     "data": {
      "text/plain": [
       "False"
      ]
     },
     "execution_count": 18,
     "metadata": {},
     "output_type": "execute_result"
    }
   ],
   "source": [
    "num1!=num2"
   ]
  },
  {
   "cell_type": "markdown",
   "id": "9829c5a0",
   "metadata": {},
   "source": [
    "# shart ya condition"
   ]
  },
  {
   "cell_type": "code",
   "execution_count": 23,
   "id": "1be6bc03",
   "metadata": {},
   "outputs": [
    {
     "name": "stdout",
     "output_type": "stream",
     "text": [
      "number1 is lower than number2\n"
     ]
    }
   ],
   "source": [
    "number1=20\n",
    "number2=30\n",
    "if number1>number2:\n",
    "    print(\"number1 is higher than number2\")\n",
    "elif number1==number2:\n",
    "    print(\"number1 is equal to number 2\")\n",
    "else:\n",
    "    print(\"number1 is lower than number2\")"
   ]
  },
  {
   "cell_type": "markdown",
   "id": "34e64e72",
   "metadata": {},
   "source": [
    "# input"
   ]
  },
  {
   "cell_type": "code",
   "execution_count": 30,
   "id": "39909b0f",
   "metadata": {},
   "outputs": [
    {
     "name": "stdout",
     "output_type": "stream",
     "text": [
      "Please enter the number of days that you want to know:5\n",
      "today is wednesday\n",
      "<class 'int'>\n"
     ]
    }
   ],
   "source": [
    "number1=int(input(\"Please enter the number of days that you want to know:\"))\n",
    "if number1==1:\n",
    "    print(\"today is saturday\")\n",
    "elif number1==2:\n",
    "    print(\"today is sunday\")\n",
    "elif number1==3:\n",
    "    print(\"today is monday\")\n",
    "elif number1==4:\n",
    "    print(\"today is tuesday\")\n",
    "elif number1==5:\n",
    "    print(\"today is wednesday\")\n",
    "elif number1==6:\n",
    "    print(\"today is thursday\")\n",
    "elif number1==7:\n",
    "    print(\"today is friday\")\n",
    "else:\n",
    "    print(\"Your number is wrong\")\n",
    "    \n",
    "print(type(number1))"
   ]
  },
  {
   "cell_type": "code",
   "execution_count": 29,
   "id": "ac27cd9b",
   "metadata": {},
   "outputs": [
    {
     "name": "stdout",
     "output_type": "stream",
     "text": [
      "Please enter your name:ali\n",
      "Your name is true\n",
      "<class 'str'>\n"
     ]
    }
   ],
   "source": [
    "name=input(\"Please enter your name:\")\n",
    "if name==\"ali\":\n",
    "    print(\"Your name is true\")\n",
    "else:\n",
    "    print(\"your name is false\")\n",
    "print(type(name))"
   ]
  },
  {
   "cell_type": "code",
   "execution_count": 3,
   "id": "c2ef8ab4",
   "metadata": {},
   "outputs": [
    {
     "name": "stdout",
     "output_type": "stream",
     "text": [
      "Please enter the number:29\n",
      "29.0 is lower than 50\n"
     ]
    }
   ],
   "source": [
    "number=float(input(\"Please enter the number:\"))\n",
    "if number>=50:\n",
    "    print(f\" {number} is higher than 50 or equal to 50\")\n",
    "else:\n",
    "    print(f\"{number} is lower than 50\")"
   ]
  },
  {
   "cell_type": "markdown",
   "id": "ae0d344a",
   "metadata": {},
   "source": [
    "# halghe==> loop\n",
    "1) for\n",
    "2) while"
   ]
  },
  {
   "cell_type": "markdown",
   "id": "1234e2d9",
   "metadata": {},
   "source": [
    "### for"
   ]
  },
  {
   "cell_type": "code",
   "execution_count": 5,
   "id": "e582fb82",
   "metadata": {},
   "outputs": [
    {
     "name": "stdout",
     "output_type": "stream",
     "text": [
      "1\n",
      "2\n",
      "3\n",
      "4\n",
      "5\n",
      "6\n",
      "7\n",
      "8\n",
      "9\n",
      "10\n",
      "11\n",
      "12\n",
      "13\n",
      "14\n",
      "15\n",
      "16\n",
      "17\n",
      "18\n",
      "19\n",
      "20\n"
     ]
    }
   ],
   "source": [
    "for i in range(1,21): # (ebteda, enteha+1)\n",
    "    print(i)"
   ]
  },
  {
   "cell_type": "code",
   "execution_count": 6,
   "id": "4efcc421",
   "metadata": {},
   "outputs": [
    {
     "name": "stdout",
     "output_type": "stream",
     "text": [
      "2\n",
      "4\n",
      "6\n",
      "8\n",
      "10\n",
      "12\n",
      "14\n",
      "16\n",
      "18\n",
      "20\n",
      "22\n",
      "24\n",
      "26\n",
      "28\n",
      "30\n"
     ]
    }
   ],
   "source": [
    "for i in range(1,31):\n",
    "    if i%2==0:\n",
    "        print(i)"
   ]
  },
  {
   "cell_type": "code",
   "execution_count": 8,
   "id": "e337bcab",
   "metadata": {},
   "outputs": [
    {
     "name": "stdout",
     "output_type": "stream",
     "text": [
      "1\n",
      "3\n",
      "5\n",
      "7\n",
      "9\n",
      "11\n",
      "13\n",
      "15\n",
      "17\n",
      "19\n",
      "21\n",
      "23\n",
      "25\n",
      "27\n",
      "29\n",
      "31\n"
     ]
    }
   ],
   "source": [
    "for i in range(1,32,2):# (edbteda,enteha+1, step)\n",
    "    print(i)"
   ]
  },
  {
   "cell_type": "code",
   "execution_count": 11,
   "id": "5d95962c",
   "metadata": {},
   "outputs": [
    {
     "name": "stdout",
     "output_type": "stream",
     "text": [
      "Please enter the number that you want to factoreil:6\n",
      "720\n"
     ]
    }
   ],
   "source": [
    "number=int(input(\"Please enter the number that you want to factoreil:\"))\n",
    "fact=1\n",
    "for i in range(1,number+1):\n",
    "    fact=fact*i\n",
    "print(fact)"
   ]
  },
  {
   "cell_type": "markdown",
   "id": "68814713",
   "metadata": {},
   "source": [
    "# while"
   ]
  },
  {
   "cell_type": "code",
   "execution_count": 5,
   "id": "74ffc4a3",
   "metadata": {},
   "outputs": [
    {
     "name": "stdout",
     "output_type": "stream",
     "text": [
      "1\n",
      "2\n",
      "3\n",
      "4\n",
      "5\n",
      "6\n",
      "7\n",
      "8\n",
      "9\n",
      "10\n",
      "11\n",
      "12\n",
      "13\n",
      "14\n",
      "15\n",
      "16\n",
      "17\n",
      "18\n",
      "19\n"
     ]
    }
   ],
   "source": [
    "i=1\n",
    "while i<20:\n",
    "    print(i)\n",
    "    i=i+1"
   ]
  },
  {
   "cell_type": "code",
   "execution_count": 7,
   "id": "9afb6c04",
   "metadata": {},
   "outputs": [
    {
     "name": "stdout",
     "output_type": "stream",
     "text": [
      "Please enter number of inputs:20\n",
      "20\n",
      "Please enter number of inputs:10\n",
      "10\n",
      "Please enter number of inputs:40\n",
      "40\n"
     ]
    }
   ],
   "source": [
    "i=0\n",
    "while i<3:\n",
    "    number=int(input(\"Please enter number of inputs:\"))\n",
    "    print(number)\n",
    "    i=i+1"
   ]
  },
  {
   "cell_type": "code",
   "execution_count": 8,
   "id": "f5d73747",
   "metadata": {},
   "outputs": [
    {
     "name": "stdout",
     "output_type": "stream",
     "text": [
      "Please enter the number:5\n",
      "120\n"
     ]
    }
   ],
   "source": [
    "i=1\n",
    "fact=1\n",
    "number=int(input(\"Please enter the number:\"))\n",
    "while(i<number+1):\n",
    "    fact=fact*i\n",
    "    i=i+1\n",
    "print(fact)"
   ]
  },
  {
   "cell_type": "markdown",
   "id": "242a9693",
   "metadata": {},
   "source": [
    "# break==> kharej shodan az halghe zamani ke shoma bekhahid"
   ]
  },
  {
   "cell_type": "code",
   "execution_count": 9,
   "id": "9d7bdd66",
   "metadata": {},
   "outputs": [
    {
     "name": "stdout",
     "output_type": "stream",
     "text": [
      "7\n"
     ]
    }
   ],
   "source": [
    "for i in range(1,30):\n",
    "    if i%7==0:\n",
    "        print(i)\n",
    "        break"
   ]
  },
  {
   "cell_type": "markdown",
   "id": "4fa93a30",
   "metadata": {},
   "source": [
    "# continue==> kharej shod az halghe va bargasht be an"
   ]
  },
  {
   "cell_type": "code",
   "execution_count": 10,
   "id": "5abb8d2f",
   "metadata": {},
   "outputs": [
    {
     "name": "stdout",
     "output_type": "stream",
     "text": [
      "7\n",
      "14\n",
      "21\n",
      "28\n"
     ]
    }
   ],
   "source": [
    "for i in range(1,30):\n",
    "    if i%7==0:\n",
    "        print(i)\n",
    "        continue"
   ]
  },
  {
   "cell_type": "markdown",
   "id": "80f396ec",
   "metadata": {},
   "source": [
    "#  and===> hameye shorot bayad dorost bashand ta ejra shavand"
   ]
  },
  {
   "cell_type": "code",
   "execution_count": 19,
   "id": "641eeaae",
   "metadata": {},
   "outputs": [
    {
     "name": "stdout",
     "output_type": "stream",
     "text": [
      "False\n"
     ]
    }
   ],
   "source": [
    "a=16\n",
    "if a>10 and a<15:\n",
    "    print(\"true\")\n",
    "else:\n",
    "    print(\"False\")"
   ]
  },
  {
   "cell_type": "markdown",
   "id": "6ad0fff5",
   "metadata": {},
   "source": [
    "# or ==> kafie ke yek tarafe shorot drost bashad ta ejra shavad"
   ]
  },
  {
   "cell_type": "code",
   "execution_count": 18,
   "id": "f83dcb2c",
   "metadata": {},
   "outputs": [
    {
     "name": "stdout",
     "output_type": "stream",
     "text": [
      "true\n"
     ]
    }
   ],
   "source": [
    "a=16\n",
    "if a>10 or a<15:\n",
    "    print(\"true\")\n",
    "else:\n",
    "    print(\"False\")"
   ]
  },
  {
   "cell_type": "code",
   "execution_count": 23,
   "id": "013324f8",
   "metadata": {},
   "outputs": [
    {
     "name": "stdout",
     "output_type": "stream",
     "text": [
      "1\n",
      "2\n",
      "3\n",
      "4\n",
      "5\n",
      "6\n",
      "7\n",
      "8\n",
      "9\n",
      "10\n",
      "11\n",
      "12\n",
      "16\n",
      "17\n",
      "18\n",
      "19\n",
      "20\n"
     ]
    }
   ],
   "source": [
    "for i in range(1,21):\n",
    "    \n",
    "    if i>12 and i<16:\n",
    "        continue\n",
    "    print(i)"
   ]
  },
  {
   "cell_type": "code",
   "execution_count": 24,
   "id": "6913500f",
   "metadata": {},
   "outputs": [
    {
     "name": "stdout",
     "output_type": "stream",
     "text": [
      "1\n",
      "2\n",
      "3\n",
      "4\n",
      "5\n",
      "6\n",
      "7\n",
      "8\n",
      "9\n",
      "10\n",
      "11\n",
      "12\n"
     ]
    }
   ],
   "source": [
    "for i in range(1,21):\n",
    "    \n",
    "    if i>12 and i<16:\n",
    "        break\n",
    "    print(i)"
   ]
  },
  {
   "cell_type": "code",
   "execution_count": null,
   "id": "30077e21",
   "metadata": {},
   "outputs": [],
   "source": []
  }
 ],
 "metadata": {
  "kernelspec": {
   "display_name": "Python 3 (ipykernel)",
   "language": "python",
   "name": "python3"
  },
  "language_info": {
   "codemirror_mode": {
    "name": "ipython",
    "version": 3
   },
   "file_extension": ".py",
   "mimetype": "text/x-python",
   "name": "python",
   "nbconvert_exporter": "python",
   "pygments_lexer": "ipython3",
   "version": "3.11.5"
  }
 },
 "nbformat": 4,
 "nbformat_minor": 5
}
