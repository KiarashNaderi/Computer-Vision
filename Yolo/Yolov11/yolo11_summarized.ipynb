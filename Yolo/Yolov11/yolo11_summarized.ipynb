{
  "nbformat": 4,
  "nbformat_minor": 0,
  "metadata": {
    "colab": {
      "provenance": []
    },
    "kernelspec": {
      "name": "python3",
      "display_name": "Python 3"
    },
    "language_info": {
      "name": "python"
    }
  },
  "cells": [
    {
      "cell_type": "markdown",
      "source": [
        "**4 TASKS for Videos**"
      ],
      "metadata": {
        "id": "9Df3OLpKbgtJ"
      }
    },
    {
      "cell_type": "code",
      "source": [
        "from ultralytics import YOLO\n",
        "\n",
        "# 1. Object Detection\n",
        "model_detection = YOLO(\"yolo11n.pt\")\n",
        "results_detection = model_detection(\"/content/drive/MyDrive/Yolo for computer vision/recourses/exercise01.mp4\", save=True)\n",
        "\n",
        "# 2. Segmentation\n",
        "model_segmentation = YOLO(\"yolo11n-seg.pt\")\n",
        "results_segmentation = model_segmentation(\"/content/drive/MyDrive/Yolo for computer vision/recourses/exercise01.mp4\", save=True)\n",
        "\n",
        "# 3. Pose Estimation\n",
        "model_pose = YOLO(\"yolo11n-pose.pt\")\n",
        "results_pose = model_pose(\"/content/drive/MyDrive/Yolo for computer vision/recourses/exercise01.mp4\", save=True)\n",
        "\n",
        "# 4. Image Classification\n",
        "model_classification = YOLO(\"yolo11n-cls.pt\")\n",
        "results_classification = model_classification(\"/content/drive/MyDrive/Yolo for computer vision/recourses/exercise01.mp4\", save=True)\n"
      ],
      "metadata": {
        "id": "dUgmq1mibkYP"
      },
      "execution_count": null,
      "outputs": []
    },
    {
      "cell_type": "code",
      "source": [
        "from google.colab import drive\n",
        "drive.mount('/content/drive')\n",
        "\n",
        "!mv runs/detect/predict/exercise01.mp4 /content/drive/MyDrive/Yolo\\ for\\ computer\\ vision/recourses/exercise01_detection.mp4\n",
        "!mv runs/segment/predict/exercise01.mp4 /content/drive/MyDrive/Yolo\\ for\\ computer\\ vision/recourses/exercise01_segmentation.mp4\n",
        "!mv runs/pose/predict/exercise01.mp4 /content/drive/MyDrive/Yolo\\ for\\ computer\\ vision/recourses/exercise01_pose.mp4\n",
        "!mv runs/classify/predict/exercise01.mp4 /content/drive/MyDrive/Yolo\\ for\\ computer\\ vision/recourses/exercise01_classification.mp4\n"
      ],
      "metadata": {
        "id": "jYnGqMkfbqAf"
      },
      "execution_count": null,
      "outputs": []
    },
    {
      "cell_type": "markdown",
      "source": [
        "**4 tasks for images**"
      ],
      "metadata": {
        "id": "SfFgTdDsbm7X"
      }
    },
    {
      "cell_type": "code",
      "source": [
        "from ultralytics import YOLO\n",
        "\n",
        "# مسیر تصویر ورودی\n",
        "image_path = \"/content/drive/MyDrive/Yolo for computer vision/recourses/image01.jpg\"\n",
        "\n",
        "# 1. Object Detection\n",
        "model_detection = YOLO(\"yolo11n.pt\")\n",
        "results_detection = model_detection(image_path, save=True)\n",
        "\n",
        "# 2. Segmentation\n",
        "model_segmentation = YOLO(\"yolo11n-seg.pt\")  #\n",
        "results_segmentation = model_segmentation(image_path, save=True)\n",
        "\n",
        "# 3. Pose Estimation\n",
        "model_pose = YOLO(\"yolo11n-pose.pt\")\n",
        "results_pose = model_pose(image_path, save=True)\n",
        "\n",
        "# 4. Image Classification\n",
        "model_classification = YOLO(\"yolo11n-cls.pt\")\n",
        "results_classification = model_classification(image_path, save=True)\n"
      ],
      "metadata": {
        "id": "Il5ompyyb0dg"
      },
      "execution_count": null,
      "outputs": []
    },
    {
      "cell_type": "code",
      "source": [
        "from google.colab import drive\n",
        "drive.mount('/content/drive')\n",
        "\n",
        "# انتقال فایل‌های خروجی به Google Drive\n",
        "!mv runs/detect/predict/image01.jpg /content/drive/MyDrive/Yolo\\ for\\ computer\\ vision/recourses/image01_detection.jpg\n",
        "!mv runs/segment/predict/image01.jpg /content/drive/MyDrive/Yolo\\ for\\ computer\\ vision/recourses/image01_segmentation.jpg\n",
        "!mv runs/pose/predict/image01.jpg /content/drive/MyDrive/Yolo\\ for\\ computer\\ vision/recourses/image01_pose.jpg\n",
        "!mv runs/classify/predict/image01.jpg /content/drive/MyDrive/Yolo\\ for\\ computer\\ vision/recourses/image01_classification.jpg\n"
      ],
      "metadata": {
        "id": "nKk8KtGKb_wH"
      },
      "execution_count": null,
      "outputs": []
    }
  ]
}