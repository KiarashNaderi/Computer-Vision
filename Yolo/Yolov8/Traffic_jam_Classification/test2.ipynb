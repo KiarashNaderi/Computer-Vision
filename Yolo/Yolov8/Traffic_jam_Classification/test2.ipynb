{
 "cells": [
  {
   "cell_type": "code",
   "execution_count": 7,
   "id": "1d6671eb",
   "metadata": {},
   "outputs": [
    {
     "name": "stdout",
     "output_type": "stream",
     "text": [
      "\u001b[1m1/1\u001b[0m \u001b[32m━━━━━━━━━━━━━━━━━━━━\u001b[0m\u001b[37m\u001b[0m \u001b[1m0s\u001b[0m 110ms/step\n"
     ]
    }
   ],
   "source": [
    "import numpy as np\n",
    "import cv2\n",
    "import pickle\n",
    "\n",
    "# Define parameters\n",
    "frameWidth = 640         # Desired output image width\n",
    "frameHeight = 480        # Desired output image height\n",
    "brightness = 180\n",
    "threshold = 0.75         # Probability threshold\n",
    "font = cv2.FONT_HERSHEY_SIMPLEX\n",
    "\n",
    "# Load the trained model\n",
    "with open(\"model_trained.p\", \"rb\") as pickle_in:\n",
    "    model = pickle.load(pickle_in)\n",
    "\n",
    "def grayscale(img):\n",
    "    img = cv2.cvtColor(img, cv2.COLOR_BGR2GRAY)\n",
    "    return img\n",
    "\n",
    "def equalize(img):\n",
    "    img = cv2.equalizeHist(img)\n",
    "    return img\n",
    "\n",
    "def preprocessing(img):\n",
    "    img = grayscale(img)\n",
    "    img = equalize(img)\n",
    "    img = img / 255\n",
    "    return img\n",
    "\n",
    "def getClassName(classNo):\n",
    "    # Define class names\n",
    "    class_names = [\n",
    "        'Speed Limit 20 km/h', 'Speed Limit 30 km/h', 'Speed Limit 50 km/h',\n",
    "        'Speed Limit 60 km/h', 'Speed Limit 70 km/h', 'Speed Limit 80 km/h',\n",
    "        'End of Speed Limit 80 km/h', 'Speed Limit 100 km/h', 'Speed Limit 120 km/h',\n",
    "        'No passing', 'No passing for vehicles over 3.5 metric tons',\n",
    "        'Right-of-way at the next intersection', 'Priority road', 'Yield', 'Stop',\n",
    "        'No vehicles', 'Vehicles over 3.5 metric tons prohibited', 'No entry',\n",
    "        'General caution', 'Dangerous curve to the left', 'Dangerous curve to the right',\n",
    "        'Double curve', 'Bumpy road', 'Slippery road', 'Road narrows on the right',\n",
    "        'Road work', 'Traffic signals', 'Pedestrians', 'Children crossing',\n",
    "        'Bicycles crossing', 'Beware of ice/snow', 'Wild animals crossing',\n",
    "        'End of all speed and passing limits', 'Turn right ahead', 'Turn left ahead',\n",
    "        'Ahead only', 'Go straight or right', 'Go straight or left', 'Keep right',\n",
    "        'Keep left', 'Roundabout mandatory', 'End of no passing',\n",
    "        'End of no passing by vehicles over 3.5 metric tons'\n",
    "    ]\n",
    "    return class_names[classNo]\n",
    "\n",
    "# Read the external image\n",
    "imgOrignal = cv2.imread(r\"D:\\Projects\\deep learning\\traffic sign classification\\signs\\real time.jpg\")\n",
    "\n",
    "# Process the image\n",
    "img = np.asarray(imgOrignal)\n",
    "img = cv2.resize(img, (32, 32))\n",
    "img = preprocessing(img)\n",
    "img = img.reshape(1, 32, 32, 1)\n",
    "\n",
    "# Predict image\n",
    "predictions = model.predict(img)\n",
    "classIndex = np.argmax(predictions, axis=-1)\n",
    "probabilityValue = np.amax(predictions)\n",
    "\n",
    "if probabilityValue > threshold:\n",
    "    classIndex = classIndex[0]  # Convert array to scalar index\n",
    "    cv2.putText(imgOrignal, str(classIndex) + \" \" + str(getClassName(classIndex)), (20, 35), font, 0.75, (0, 0, 255), 2, cv2.LINE_AA)\n",
    "    cv2.putText(imgOrignal, str(round(probabilityValue * 100, 2)) + \"%\", (20, 75), font, 0.75, (0, 0, 255), 2, cv2.LINE_AA)\n",
    "    cv2.imshow(\"Result\", imgOrignal)\n",
    "    cv2.waitKey(0)  # Keep the result image open until any key is pressed\n",
    "\n",
    "cv2.destroyAllWindows()\n"
   ]
  },
  {
   "cell_type": "code",
   "execution_count": null,
   "id": "2f870aac",
   "metadata": {},
   "outputs": [],
   "source": []
  }
 ],
 "metadata": {
  "kernelspec": {
   "display_name": "Python 3 (ipykernel)",
   "language": "python",
   "name": "python3"
  },
  "language_info": {
   "codemirror_mode": {
    "name": "ipython",
    "version": 3
   },
   "file_extension": ".py",
   "mimetype": "text/x-python",
   "name": "python",
   "nbconvert_exporter": "python",
   "pygments_lexer": "ipython3",
   "version": "3.11.5"
  }
 },
 "nbformat": 4,
 "nbformat_minor": 5
}
